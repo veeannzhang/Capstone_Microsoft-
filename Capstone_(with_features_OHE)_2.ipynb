{
  "nbformat": 4,
  "nbformat_minor": 0,
  "metadata": {
    "colab": {
      "name": "Capstone (with features OHE)-2.ipynb",
      "version": "0.3.2",
      "provenance": [],
      "include_colab_link": true
    },
    "kernelspec": {
      "name": "python3",
      "display_name": "Python 3"
    },
    "accelerator": "TPU"
  },
  "cells": [
    {
      "cell_type": "markdown",
      "metadata": {
        "id": "view-in-github",
        "colab_type": "text"
      },
      "source": [
        "<a href=\"https://colab.research.google.com/github/veeannzhang/Capstone_Microsoft-/blob/master/Capstone_(with_features_OHE)_2.ipynb\" target=\"_parent\"><img src=\"https://colab.research.google.com/assets/colab-badge.svg\" alt=\"Open In Colab\"/></a>"
      ]
    },
    {
      "metadata": {
        "id": "JBF3qbphTdnZ",
        "colab_type": "code",
        "colab": {}
      },
      "cell_type": "code",
      "source": [
        "import pandas as pd\n",
        "import numpy as np\n",
        "from sklearn.model_selection import train_test_split, cross_val_score\n",
        "from sklearn import preprocessing\n",
        "import warnings\n",
        "import random\n",
        "from sklearn.ensemble import RandomForestClassifier\n",
        "from sklearn.model_selection import cross_validate\n",
        "from sklearn.linear_model import LogisticRegression, SGDClassifier\n",
        "import matplotlib.pyplot as plt \n",
        "import matplotlib\n",
        "warnings.filterwarnings(\"ignore\")"
      ],
      "execution_count": 0,
      "outputs": []
    },
    {
      "metadata": {
        "id": "JKwYezYiTdng",
        "colab_type": "text"
      },
      "cell_type": "markdown",
      "source": [
        "## 1. Import Dataset"
      ]
    },
    {
      "metadata": {
        "id": "e-OhX5aBUWv0",
        "colab_type": "code",
        "colab": {
          "resources": {
            "http://localhost:8080/nbextensions/google.colab/files.js": {
              "data": "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",
              "ok": true,
              "headers": [
                [
                  "content-type",
                  "application/javascript"
                ]
              ],
              "status": 200,
              "status_text": ""
            }
          },
          "base_uri": "https://localhost:8080/",
          "height": 69
        },
        "outputId": "2f5b08bc-3940-4673-9f2d-2ef0997ebe5b"
      },
      "cell_type": "code",
      "source": [
        "from google.colab import files\n",
        "uploaded = files.upload()"
      ],
      "execution_count": 3,
      "outputs": [
        {
          "output_type": "display_data",
          "data": {
            "text/html": [
              "\n",
              "     <input type=\"file\" id=\"files-ee4f1811-e996-49f9-adc2-bbe68c3da8e5\" name=\"files[]\" multiple disabled />\n",
              "     <output id=\"result-ee4f1811-e996-49f9-adc2-bbe68c3da8e5\">\n",
              "      Upload widget is only available when the cell has been executed in the\n",
              "      current browser session. Please rerun this cell to enable.\n",
              "      </output>\n",
              "      <script src=\"/nbextensions/google.colab/files.js\"></script> "
            ],
            "text/plain": [
              "<IPython.core.display.HTML object>"
            ]
          },
          "metadata": {
            "tags": []
          }
        },
        {
          "output_type": "stream",
          "text": [
            "Saving survey_total.csv to survey_total.csv\n"
          ],
          "name": "stdout"
        }
      ]
    },
    {
      "metadata": {
        "id": "vVrBC5ozTdni",
        "colab_type": "code",
        "colab": {}
      },
      "cell_type": "code",
      "source": [
        "# Load the dataset into a dataframe\n",
        "survey_total = pd.read_csv(\"survey_total.csv\")"
      ],
      "execution_count": 0,
      "outputs": []
    },
    {
      "metadata": {
        "id": "SI6VMxEBTdno",
        "colab_type": "code",
        "colab": {
          "base_uri": "https://localhost:8080/",
          "height": 593
        },
        "outputId": "b2059170-1c86-4b7b-f8f2-ecd6252a34b3"
      },
      "cell_type": "code",
      "source": [
        "# Examine the data\n",
        "survey_total.head()"
      ],
      "execution_count": 5,
      "outputs": [
        {
          "output_type": "execute_result",
          "data": {
            "text/html": [
              "<div>\n",
              "<style scoped>\n",
              "    .dataframe tbody tr th:only-of-type {\n",
              "        vertical-align: middle;\n",
              "    }\n",
              "\n",
              "    .dataframe tbody tr th {\n",
              "        vertical-align: top;\n",
              "    }\n",
              "\n",
              "    .dataframe thead th {\n",
              "        text-align: right;\n",
              "    }\n",
              "</style>\n",
              "<table border=\"1\" class=\"dataframe\">\n",
              "  <thead>\n",
              "    <tr style=\"text-align: right;\">\n",
              "      <th></th>\n",
              "      <th>Unnamed: 0</th>\n",
              "      <th>What day of the month were you born?</th>\n",
              "      <th>Will you vote in the Congressional elections 2018?</th>\n",
              "      <th>Compared to previous Congressional elections, how enthusiastic are you about voting this year?</th>\n",
              "      <th>If the election for the U.S. House of Representatives in your district was today, who would you vote for?</th>\n",
              "      <th>How do you feel about the job the Republican candidate is doing as a member of congress?</th>\n",
              "      <th>Is your opinion of the Democratic candidate favorable, unfavorable or haven't you heard enough about the candidate?</th>\n",
              "      <th>How do you feel about increased government spending and regulations addressing climate change, even if it reduced economic activity?</th>\n",
              "      <th>Which of these seven topics do you care about most?</th>\n",
              "      <th>Do you think rolling back clean air and water regulations will affect public health in general?</th>\n",
              "      <th>...</th>\n",
              "      <th>party</th>\n",
              "      <th>gender</th>\n",
              "      <th>age</th>\n",
              "      <th>race</th>\n",
              "      <th>education</th>\n",
              "      <th>urbanicity</th>\n",
              "      <th>district</th>\n",
              "      <th>married</th>\n",
              "      <th>dob</th>\n",
              "      <th>wave</th>\n",
              "    </tr>\n",
              "  </thead>\n",
              "  <tbody>\n",
              "    <tr>\n",
              "      <th>0</th>\n",
              "      <td>1</td>\n",
              "      <td>08</td>\n",
              "      <td>Definitely</td>\n",
              "      <td>About the same/don't know</td>\n",
              "      <td>Republican candidate</td>\n",
              "      <td>Haven't heard enough</td>\n",
              "      <td>Somewhat favorable</td>\n",
              "      <td>Favor weakly</td>\n",
              "      <td>Healthcare reform</td>\n",
              "      <td>Yes</td>\n",
              "      <td>...</td>\n",
              "      <td>Dem</td>\n",
              "      <td>Female</td>\n",
              "      <td>18 - 24</td>\n",
              "      <td>Hispanic</td>\n",
              "      <td>No Bachelors</td>\n",
              "      <td>U5</td>\n",
              "      <td>CA-10</td>\n",
              "      <td>Unmarried</td>\n",
              "      <td>08</td>\n",
              "      <td>2018-09</td>\n",
              "    </tr>\n",
              "    <tr>\n",
              "      <th>1</th>\n",
              "      <td>2</td>\n",
              "      <td>8</td>\n",
              "      <td>Likely</td>\n",
              "      <td>About the same/don't know</td>\n",
              "      <td>Democratic candidate</td>\n",
              "      <td>Approve weakly</td>\n",
              "      <td>Somewhat favorable</td>\n",
              "      <td>Favor weakly</td>\n",
              "      <td>Tax reform</td>\n",
              "      <td>No</td>\n",
              "      <td>...</td>\n",
              "      <td>Dem</td>\n",
              "      <td>Male</td>\n",
              "      <td>45 - 54</td>\n",
              "      <td>White</td>\n",
              "      <td>No Bachelors</td>\n",
              "      <td>U5</td>\n",
              "      <td>CA-10</td>\n",
              "      <td>Married</td>\n",
              "      <td>8</td>\n",
              "      <td>2018-09</td>\n",
              "    </tr>\n",
              "    <tr>\n",
              "      <th>2</th>\n",
              "      <td>3</td>\n",
              "      <td>19</td>\n",
              "      <td>Likely</td>\n",
              "      <td>About the same/don't know</td>\n",
              "      <td>Democratic candidate</td>\n",
              "      <td>Disapprove strongly</td>\n",
              "      <td>Somewhat favorable</td>\n",
              "      <td>Favor weakly</td>\n",
              "      <td>Gun safety reform</td>\n",
              "      <td>Yes</td>\n",
              "      <td>...</td>\n",
              "      <td>Dem</td>\n",
              "      <td>Female</td>\n",
              "      <td>35 - 44</td>\n",
              "      <td>White</td>\n",
              "      <td>No Bachelors</td>\n",
              "      <td>S4</td>\n",
              "      <td>CA-10</td>\n",
              "      <td>Unmarried</td>\n",
              "      <td>19</td>\n",
              "      <td>2018-09</td>\n",
              "    </tr>\n",
              "    <tr>\n",
              "      <th>3</th>\n",
              "      <td>4</td>\n",
              "      <td>1</td>\n",
              "      <td>Likely</td>\n",
              "      <td>About the same/don't know</td>\n",
              "      <td>Other candidate</td>\n",
              "      <td>Approve strongly</td>\n",
              "      <td>Somewhat favorable</td>\n",
              "      <td>Favor strongly</td>\n",
              "      <td>Clean air and water protection</td>\n",
              "      <td>Yes</td>\n",
              "      <td>...</td>\n",
              "      <td>Rep</td>\n",
              "      <td>Female</td>\n",
              "      <td>25 - 34</td>\n",
              "      <td>Hispanic</td>\n",
              "      <td>No Bachelors</td>\n",
              "      <td>S4</td>\n",
              "      <td>CA-10</td>\n",
              "      <td>Married</td>\n",
              "      <td>1</td>\n",
              "      <td>2018-09</td>\n",
              "    </tr>\n",
              "    <tr>\n",
              "      <th>4</th>\n",
              "      <td>5</td>\n",
              "      <td>21</td>\n",
              "      <td>Likely</td>\n",
              "      <td>More enthusiastic</td>\n",
              "      <td>Republican candidate</td>\n",
              "      <td>Approve strongly</td>\n",
              "      <td>Haven't heard enough</td>\n",
              "      <td>Oppose strongly</td>\n",
              "      <td>Healthcare reform</td>\n",
              "      <td>No</td>\n",
              "      <td>...</td>\n",
              "      <td>Ind</td>\n",
              "      <td>Male</td>\n",
              "      <td>35 - 44</td>\n",
              "      <td>White</td>\n",
              "      <td>Bachelors</td>\n",
              "      <td>U5</td>\n",
              "      <td>CA-10</td>\n",
              "      <td>Unmarried</td>\n",
              "      <td>21</td>\n",
              "      <td>2018-09</td>\n",
              "    </tr>\n",
              "  </tbody>\n",
              "</table>\n",
              "<p>5 rows × 28 columns</p>\n",
              "</div>"
            ],
            "text/plain": [
              "   Unnamed: 0 What day of the month were you born?  \\\n",
              "0           1                                   08   \n",
              "1           2                                    8   \n",
              "2           3                                   19   \n",
              "3           4                                    1   \n",
              "4           5                                   21   \n",
              "\n",
              "  Will you vote in the Congressional elections 2018?  \\\n",
              "0                                         Definitely   \n",
              "1                                             Likely   \n",
              "2                                             Likely   \n",
              "3                                             Likely   \n",
              "4                                             Likely   \n",
              "\n",
              "  Compared to previous Congressional elections, how enthusiastic are you about voting this year?  \\\n",
              "0                          About the same/don't know                                               \n",
              "1                          About the same/don't know                                               \n",
              "2                          About the same/don't know                                               \n",
              "3                          About the same/don't know                                               \n",
              "4                                  More enthusiastic                                               \n",
              "\n",
              "  If the election for the U.S. House of Representatives in your district was today, who would you vote for?  \\\n",
              "0                               Republican candidate                                                          \n",
              "1                               Democratic candidate                                                          \n",
              "2                               Democratic candidate                                                          \n",
              "3                                    Other candidate                                                          \n",
              "4                               Republican candidate                                                          \n",
              "\n",
              "  How do you feel about the job the Republican candidate is doing as a member of congress?  \\\n",
              "0                               Haven't heard enough                                         \n",
              "1                                     Approve weakly                                         \n",
              "2                                Disapprove strongly                                         \n",
              "3                                   Approve strongly                                         \n",
              "4                                   Approve strongly                                         \n",
              "\n",
              "  Is your opinion of the Democratic candidate favorable, unfavorable or haven't you heard enough about the candidate?  \\\n",
              "0                                 Somewhat favorable                                                                    \n",
              "1                                 Somewhat favorable                                                                    \n",
              "2                                 Somewhat favorable                                                                    \n",
              "3                                 Somewhat favorable                                                                    \n",
              "4                               Haven't heard enough                                                                    \n",
              "\n",
              "  How do you feel about increased government spending and regulations addressing climate change, even if it reduced economic activity?  \\\n",
              "0                                       Favor weakly                                                                                     \n",
              "1                                       Favor weakly                                                                                     \n",
              "2                                       Favor weakly                                                                                     \n",
              "3                                     Favor strongly                                                                                     \n",
              "4                                    Oppose strongly                                                                                     \n",
              "\n",
              "  Which of these seven topics do you care about most?  \\\n",
              "0                                  Healthcare reform    \n",
              "1                                         Tax reform    \n",
              "2                                  Gun safety reform    \n",
              "3                     Clean air and water protection    \n",
              "4                                  Healthcare reform    \n",
              "\n",
              "  Do you think rolling back clean air and water regulations will affect public health in general?  \\\n",
              "0                                                Yes                                                \n",
              "1                                                 No                                                \n",
              "2                                                Yes                                                \n",
              "3                                                Yes                                                \n",
              "4                                                 No                                                \n",
              "\n",
              "    ...    party  gender      age      race     education urbanicity district  \\\n",
              "0   ...      Dem  Female  18 - 24  Hispanic  No Bachelors         U5    CA-10   \n",
              "1   ...      Dem    Male  45 - 54     White  No Bachelors         U5    CA-10   \n",
              "2   ...      Dem  Female  35 - 44     White  No Bachelors         S4    CA-10   \n",
              "3   ...      Rep  Female  25 - 34  Hispanic  No Bachelors         S4    CA-10   \n",
              "4   ...      Ind    Male  35 - 44     White     Bachelors         U5    CA-10   \n",
              "\n",
              "     married dob     wave  \n",
              "0  Unmarried  08  2018-09  \n",
              "1    Married   8  2018-09  \n",
              "2  Unmarried  19  2018-09  \n",
              "3    Married   1  2018-09  \n",
              "4  Unmarried  21  2018-09  \n",
              "\n",
              "[5 rows x 28 columns]"
            ]
          },
          "metadata": {
            "tags": []
          },
          "execution_count": 5
        }
      ]
    },
    {
      "metadata": {
        "id": "ieuBytDZTdnu",
        "colab_type": "code",
        "colab": {
          "base_uri": "https://localhost:8080/",
          "height": 357
        },
        "outputId": "75971dc1-bf04-41da-b1d8-00d8bf85a781"
      },
      "cell_type": "code",
      "source": [
        "# Examine column names\n",
        "print(survey_total.columns)"
      ],
      "execution_count": 6,
      "outputs": [
        {
          "output_type": "stream",
          "text": [
            "Index(['Unnamed: 0', 'What day of the month were you born?',\n",
            "       'Will you vote in the Congressional elections 2018?',\n",
            "       'Compared to previous Congressional elections, how enthusiastic are you about voting this year?',\n",
            "       'If the election for the U.S. House of Representatives in your district was today, who would you vote for?',\n",
            "       'How do you feel about the job the Republican candidate is doing as a member of congress?',\n",
            "       'Is your opinion of the Democratic candidate favorable, unfavorable or haven't you heard enough about the candidate?',\n",
            "       'How do you feel about increased government spending and regulations addressing climate change, even if it reduced economic activity?',\n",
            "       'Which of these seven topics do you care about most?',\n",
            "       'Do you think rolling back clean air and water regulations will affect public health in general?',\n",
            "       'How concerned are you that rolling back clean air and water regulations will affect your and your family's health negatively?',\n",
            "       'Do you agree or disagree with allowing drilling by oil and gas companies on national public lands?',\n",
            "       'Do you agree or disagree with allowing drilling by oil and gas companies in the Arctic Refuge?',\n",
            "       'Do you agree or disagree with allowing offshore drilling by oil and gas companies off American coasts?',\n",
            "       'Do you think the Republican candidate or the Democratic candidate would do a better job addressing the issue of public health?',\n",
            "       'Do you think the Republican candidate or the Democratic candidate is more beholden to special interest money from oil and gas companies?',\n",
            "       'How do you feel about the job Donald Trump is doing as president?',\n",
            "       'What is your political party affiliation?', 'party', 'gender', 'age',\n",
            "       'race', 'education', 'urbanicity', 'district', 'married', 'dob',\n",
            "       'wave'],\n",
            "      dtype='object')\n"
          ],
          "name": "stdout"
        }
      ]
    },
    {
      "metadata": {
        "id": "Sw1bHgB2TdpN",
        "colab_type": "text"
      },
      "cell_type": "markdown",
      "source": [
        "## 2. Choosing Features and Target"
      ]
    },
    {
      "metadata": {
        "id": "0qy5tsYFTdpO",
        "colab_type": "code",
        "colab": {}
      },
      "cell_type": "code",
      "source": [
        "data = survey_total[['education','gender','age','race',\n",
        "               'What is your political party affiliation?',\n",
        "               'How do you feel about the job Donald Trump is doing as president?',\n",
        "               'Which of these seven topics do you care about most?',\n",
        "               'How do you feel about the job the Republican candidate is doing as a member of congress?',\n",
        "               'Do you think the Republican candidate or the Democratic candidate would do a better job addressing the issue of public health?',\n",
        "               'If the election for the U.S. House of Representatives in your district was today, who would you vote for?']]\n",
        "\n",
        "# The last column in data would be our target."
      ],
      "execution_count": 0,
      "outputs": []
    },
    {
      "metadata": {
        "id": "6JL-ZQkGTdpV",
        "colab_type": "code",
        "colab": {}
      },
      "cell_type": "code",
      "source": [
        "#df['range'] = df['range'].str.replace(',','-')\n",
        "data['age'] = data['age'].str.replace('>','-')\n",
        "data['Which of these seven topics do you care about most?'] = data['Which of these seven topics do you care about most?'].str.replace('/','-')"
      ],
      "execution_count": 0,
      "outputs": []
    },
    {
      "metadata": {
        "id": "qzCKylt2Tdpf",
        "colab_type": "code",
        "colab": {
          "base_uri": "https://localhost:8080/",
          "height": 34
        },
        "outputId": "01e80082-e2ce-4e41-c1e4-fde093e789b5"
      },
      "cell_type": "code",
      "source": [
        "len(data)"
      ],
      "execution_count": 9,
      "outputs": [
        {
          "output_type": "execute_result",
          "data": {
            "text/plain": [
              "9153"
            ]
          },
          "metadata": {
            "tags": []
          },
          "execution_count": 9
        }
      ]
    },
    {
      "metadata": {
        "id": "yZ39kRLiTdpl",
        "colab_type": "text"
      },
      "cell_type": "markdown",
      "source": [
        "### Drop rows with missing values"
      ]
    },
    {
      "metadata": {
        "id": "QPTHfngATdpn",
        "colab_type": "code",
        "colab": {}
      },
      "cell_type": "code",
      "source": [
        "new_data = data.dropna(axis=0,how='any')"
      ],
      "execution_count": 0,
      "outputs": []
    },
    {
      "metadata": {
        "id": "scye44D2Tdpr",
        "colab_type": "code",
        "colab": {
          "base_uri": "https://localhost:8080/",
          "height": 34
        },
        "outputId": "b6588e93-3198-4f53-deee-1ad5ccc9583f"
      },
      "cell_type": "code",
      "source": [
        "len(new_data)\n",
        "    # 50 rows are dropped"
      ],
      "execution_count": 11,
      "outputs": [
        {
          "output_type": "execute_result",
          "data": {
            "text/plain": [
              "9103"
            ]
          },
          "metadata": {
            "tags": []
          },
          "execution_count": 11
        }
      ]
    },
    {
      "metadata": {
        "id": "0q4s4PirTdp4",
        "colab_type": "text"
      },
      "cell_type": "markdown",
      "source": [
        "### Subsetting new_data into features and label"
      ]
    },
    {
      "metadata": {
        "id": "HDXIq8H1Tdp6",
        "colab_type": "code",
        "colab": {}
      },
      "cell_type": "code",
      "source": [
        "features = new_data.iloc[:,0:9]\n",
        "y = new_data.iloc[:,9]"
      ],
      "execution_count": 0,
      "outputs": []
    },
    {
      "metadata": {
        "id": "LprpoVhfTdqA",
        "colab_type": "code",
        "colab": {
          "base_uri": "https://localhost:8080/",
          "height": 85
        },
        "outputId": "4f8fff83-bcce-4ee6-dedf-e98261713870"
      },
      "cell_type": "code",
      "source": [
        "set(y)"
      ],
      "execution_count": 13,
      "outputs": [
        {
          "output_type": "execute_result",
          "data": {
            "text/plain": [
              "{'Democratic candidate',\n",
              " 'Other candidate',\n",
              " 'Republican candidate',\n",
              " 'Undecided'}"
            ]
          },
          "metadata": {
            "tags": []
          },
          "execution_count": 13
        }
      ]
    },
    {
      "metadata": {
        "id": "Muoezh_uTdqM",
        "colab_type": "text"
      },
      "cell_type": "markdown",
      "source": [
        "### Transform Categorical Data into Numerics using One Hot Encoding"
      ]
    },
    {
      "metadata": {
        "id": "TNzBuWIFTdqP",
        "colab_type": "code",
        "colab": {}
      },
      "cell_type": "code",
      "source": [
        "enc = preprocessing.OneHotEncoder(handle_unknown='ignore') # Load One Hot Encoder\n",
        "le = preprocessing.LabelEncoder() # Load Label Encoder"
      ],
      "execution_count": 0,
      "outputs": []
    },
    {
      "metadata": {
        "id": "atkv3CQzTdqW",
        "colab_type": "code",
        "colab": {}
      },
      "cell_type": "code",
      "source": [
        "for i in range(9): \n",
        "    features.iloc[:,i] = le.fit_transform(features.iloc[:,i])"
      ],
      "execution_count": 0,
      "outputs": []
    },
    {
      "metadata": {
        "id": "lkc_57OjTdqZ",
        "colab_type": "code",
        "colab": {}
      },
      "cell_type": "code",
      "source": [
        "X = [None] * 9\n",
        "for i in range(9):\n",
        "    X[i] = pd.DataFrame(enc.fit_transform(features.iloc[:,i].values.reshape(-1,1)).toarray())"
      ],
      "execution_count": 0,
      "outputs": []
    },
    {
      "metadata": {
        "id": "rt-0NwTHTdqm",
        "colab_type": "text"
      },
      "cell_type": "markdown",
      "source": [
        "#### **Rename all columns to fit the one-hot-encoded features"
      ]
    },
    {
      "metadata": {
        "id": "8mOWp1R4Tdqo",
        "colab_type": "code",
        "colab": {}
      },
      "cell_type": "code",
      "source": [
        "X[0] = X[0].rename(index = str, columns = {0:\"education_Bachelors\", 1:\"education_No Bachelors\"})\n",
        "X[1] = X[1].rename(index = str, columns = {0:\"gender_Female\", 1:\"gender_Male\"})\n",
        "X[2] = X[2].rename(index = str, columns = {0:\"age_>54\", 1:\"age_18-24\", 2:\"age_25-34\", 3:\"age_35-44\", 4:\"age_45-54\"})\n",
        "X[3] = X[3].rename(index = str, columns = {0:\"race_Black\", 1:\"race_Hispanic\", 2:\"race_Other Race\", 3:\"White\"})\n",
        "X[4] = X[4].rename(index = str, columns = {0:\"Q1_Independent\", 1:\"Q1_Lean Democrat/Independent\", 2:\"Q1_Lean Republican/Independent\",\n",
        "                                         3:\"Q1_Strong Democrat\", 4:\"Q1_Strong Republican\", 5:\"Q1_Weak Democrat\", \n",
        "                                            6:\"Q1_Weak Republican\"})\n",
        "X[5] = X[5].rename(index = str, columns = {0:\"Q2_Approve Strongly\", 1:\"Q2_Approve Weakly\", 2:\"Q2_Disapprove Strongly\",\n",
        "                                            3:\"Q2_Disapprove Weakly\", 4:\"Q2_Neither Approve nor Disapprove\"})\n",
        "X[6] = X[6].rename(index = str, columns = {0:\"Q3_Clean air and water protection\", 1:\"Q3_Corruption in politics\", \n",
        "                                            2:\"Q3_Foreign policy\", 3:\"Q3_Gun safety reform\", 4:\"Q3_Healthcare reform\",\n",
        "                                            5:\"Q3_Immigration reform\", 6:\"Q3_Tax reform\"})\n",
        "X[7] = X[7].rename(index = str, columns = {0:\"Q4_Approve strongly\", 1:\"Q4_Approve weakly\", 2:\"Q4_Disapprove strongly\", \n",
        "                                            3:\"Q4_Disapprove weakly\", 4:\"Q4_Haven't heard enough\"})\n",
        "X[8] = X[8].rename(index = str, columns = {0:\"Q5_Both equally/no opinion\", 1:\"Q5_Democratic candidate\", 2:\"Q5_Republican candidate\"})"
      ],
      "execution_count": 0,
      "outputs": []
    },
    {
      "metadata": {
        "id": "iYnrumHGTdqt",
        "colab_type": "text"
      },
      "cell_type": "markdown",
      "source": [
        "#### **Concatnate the one-hot-encoded features into a single data frame"
      ]
    },
    {
      "metadata": {
        "id": "bXyk5cK5TdrM",
        "colab_type": "code",
        "colab": {}
      },
      "cell_type": "code",
      "source": [
        "X_ohe = pd.concat([X[0], X[1], X[2], X[3], X[4], X[5], X[6], X[7], X[8]], axis = 1)"
      ],
      "execution_count": 0,
      "outputs": []
    },
    {
      "metadata": {
        "id": "LyKWOmj9TdrQ",
        "colab_type": "text"
      },
      "cell_type": "markdown",
      "source": [
        "#### **Examine the shape of the one-hot-encoded features"
      ]
    },
    {
      "metadata": {
        "id": "hL6D73YbTdrV",
        "colab_type": "code",
        "colab": {
          "base_uri": "https://localhost:8080/",
          "height": 34
        },
        "outputId": "2cab06e9-139f-4a2a-c660-2c98f5907fb1"
      },
      "cell_type": "code",
      "source": [
        "X_ohe.shape"
      ],
      "execution_count": 19,
      "outputs": [
        {
          "output_type": "execute_result",
          "data": {
            "text/plain": [
              "(9103, 40)"
            ]
          },
          "metadata": {
            "tags": []
          },
          "execution_count": 19
        }
      ]
    },
    {
      "metadata": {
        "id": "FCuHd_n3Tdrb",
        "colab_type": "code",
        "colab": {
          "base_uri": "https://localhost:8080/",
          "height": 272
        },
        "outputId": "880f6021-f714-4027-f055-7a35775642f5"
      },
      "cell_type": "code",
      "source": [
        "X_ohe.columns"
      ],
      "execution_count": 20,
      "outputs": [
        {
          "output_type": "execute_result",
          "data": {
            "text/plain": [
              "Index(['education_Bachelors', 'education_No Bachelors', 'gender_Female',\n",
              "       'gender_Male', 'age_>54', 'age_18-24', 'age_25-34', 'age_35-44',\n",
              "       'age_45-54', 'race_Black', 'race_Hispanic', 'race_Other Race', 'White',\n",
              "       'Q1_Independent', 'Q1_Lean Democrat/Independent',\n",
              "       'Q1_Lean Republican/Independent', 'Q1_Strong Democrat',\n",
              "       'Q1_Strong Republican', 'Q1_Weak Democrat', 'Q1_Weak Republican',\n",
              "       'Q2_Approve Strongly', 'Q2_Approve Weakly', 'Q2_Disapprove Strongly',\n",
              "       'Q2_Disapprove Weakly', 'Q2_Neither Approve nor Disapprove',\n",
              "       'Q3_Clean air and water protection', 'Q3_Corruption in politics',\n",
              "       'Q3_Foreign policy', 'Q3_Gun safety reform', 'Q3_Healthcare reform',\n",
              "       'Q3_Immigration reform', 'Q3_Tax reform', 'Q4_Approve strongly',\n",
              "       'Q4_Approve weakly', 'Q4_Disapprove strongly', 'Q4_Disapprove weakly',\n",
              "       'Q4_Haven't heard enough', 'Q5_Both equally/no opinion',\n",
              "       'Q5_Democratic candidate', 'Q5_Republican candidate'],\n",
              "      dtype='object')"
            ]
          },
          "metadata": {
            "tags": []
          },
          "execution_count": 20
        }
      ]
    },
    {
      "metadata": {
        "id": "LU9KfftnTdrm",
        "colab_type": "text"
      },
      "cell_type": "markdown",
      "source": [
        "### Transform y labels into numeric values"
      ]
    },
    {
      "metadata": {
        "id": "abre7tq6Tdrm",
        "colab_type": "code",
        "colab": {
          "base_uri": "https://localhost:8080/",
          "height": 85
        },
        "outputId": "beadec9f-dbcc-48e6-9ae7-5ebc3114bad3"
      },
      "cell_type": "code",
      "source": [
        "le_label = preprocessing.LabelEncoder()\n",
        "le_label.fit(y)\n",
        "y_le = le_label.transform(y)\n",
        "list(le_label.classes_)"
      ],
      "execution_count": 21,
      "outputs": [
        {
          "output_type": "execute_result",
          "data": {
            "text/plain": [
              "['Democratic candidate',\n",
              " 'Other candidate',\n",
              " 'Republican candidate',\n",
              " 'Undecided']"
            ]
          },
          "metadata": {
            "tags": []
          },
          "execution_count": 21
        }
      ]
    },
    {
      "metadata": {
        "id": "huZwUARXTdr6",
        "colab_type": "text"
      },
      "cell_type": "markdown",
      "source": [
        "### Simple random sampling for sample sizes 50, 100, 150, 200...."
      ]
    },
    {
      "metadata": {
        "id": "Ur8ac6waTdsV",
        "colab_type": "code",
        "colab": {}
      },
      "cell_type": "code",
      "source": [
        "# Get the range of total population\n",
        "c = list(range(0, len(new_data)))\n",
        "\n",
        "# Initialize a list for train & test sets & a list to store their classifiers & a list of test score\n",
        "X_ohe_train = [None] * 11\n",
        "X_ohe_test = [None] * 11\n",
        "y_le_train = [None] * 11\n",
        "y_le_test = [None] * 11\n",
        "\n",
        "# Split data into train and test set for each sample size and train models.\n",
        "sample_size = list(range(100,1100,100))\n",
        "\n",
        "for i in range(10):\n",
        "    index = random.sample(c,sample_size[i])\n",
        "    X_ohe_train[i], X_ohe_test[i], y_le_train[i], y_le_test[i] = train_test_split(X_ohe.iloc[index,:], y_le[index], \n",
        "                                                                              test_size=0.2, random_state=42)\n",
        "X_ohe_train[10], X_ohe_test[10], y_le_train[10], y_le_test[10] = train_test_split(X_ohe, y_le, test_size = 0.2,\n",
        "                                                                                  random_state = 42)\n",
        "\n",
        "features_train = [None] * 11\n",
        "features_test = [None] * 11\n",
        "y_rf_train = [None] * 11\n",
        "y_rf_test = [None] * 11\n",
        "for i in range(10):\n",
        "    index = random.sample(c, sample_size[i])\n",
        "    features_train[i], features_test[i], y_rf_train[i], y_rf_test[i] = train_test_split(features.iloc[index,:],\n",
        "                                                                                        y_le[index], test_size=0.2,\n",
        "                                                                                        random_state = 42)\n",
        "features_train[10], features_test[10], y_rf_train[10], y_rf_test[10] = train_test_split(features, y_le, test_size=0.2,\n",
        "                                                                                        random_state=42)"
      ],
      "execution_count": 0,
      "outputs": []
    },
    {
      "metadata": {
        "id": "_CjK4ON1Tdsf",
        "colab_type": "code",
        "colab": {}
      },
      "cell_type": "code",
      "source": [
        "RF_clf = [None] * 11\n",
        "RF_scores = []\n",
        "RF_CV_scores = []\n",
        "importances = np.zeros((11,9,100))\n",
        "for i in range(11):\n",
        "    for j in range(100):\n",
        "        RF_clf[i] = RandomForestClassifier(n_estimators=100, max_depth=2, random_state=0)\n",
        "        RF_clf[i].fit(features_train[i], y_rf_train[i])\n",
        "        importances[i][:,j] = RF_clf[i].feature_importances_\n",
        "        RF_scores.append(RF_clf[i].score(features_test[i], y_rf_test[i]))\n",
        "        RF_CV_scores.append(np.mean(cross_val_score(RF_clf[i], features_train[i], y_rf_train[i], cv =10)))\n"
      ],
      "execution_count": 0,
      "outputs": []
    },
    {
      "metadata": {
        "id": "nMdMyEITTdsj",
        "colab_type": "code",
        "colab": {}
      },
      "cell_type": "code",
      "source": [
        "importances_means = np.zeros((11, 9))\n",
        "for i in range(11):\n",
        "    importances_means[i,:] = np.mean(importances[i],axis = 1)"
      ],
      "execution_count": 0,
      "outputs": []
    },
    {
      "metadata": {
        "id": "44jbY5N3Tdsp",
        "colab_type": "code",
        "colab": {}
      },
      "cell_type": "code",
      "source": [
        "indices = np.zeros((11,9))\n",
        "for i in range(11):\n",
        "    indices[i,:] = np.argsort(importances_means[i,:])[::-1]\n",
        "indices = indices.astype(int)"
      ],
      "execution_count": 0,
      "outputs": []
    },
    {
      "metadata": {
        "id": "V-SReD4uTds5",
        "colab_type": "code",
        "colab": {
          "base_uri": "https://localhost:8080/",
          "height": 880
        },
        "outputId": "98f4fe52-52f6-4361-b568-f28ec54930a4"
      },
      "cell_type": "code",
      "source": [
        "fig, axes = plt.subplots(4, 3, figsize = (20,15))\n",
        "axes[0, 0].bar(indices[0,:], importances_means[0,:][indices[0,:]], color = \"r\", align=\"center\")\n",
        "axes[0, 1].bar(indices[1,:], importances_means[1,:][indices[1,:]], color = \"r\", align=\"center\")\n",
        "axes[0, 2].bar(indices[2,:], importances_means[2,:][indices[2,:]], color = \"r\", align=\"center\")\n",
        "axes[1, 0].bar(indices[3,:], importances_means[3,:][indices[3,:]], color = \"r\", align=\"center\")\n",
        "axes[1, 1].bar(indices[4,:], importances_means[4,:][indices[4,:]], color = \"r\", align=\"center\")\n",
        "axes[1, 2].bar(indices[5,:], importances_means[5,:][indices[5,:]], color = \"r\", align=\"center\")\n",
        "axes[2, 0].bar(indices[6,:], importances_means[6,:][indices[6,:]], color = \"r\", align=\"center\")\n",
        "axes[2, 1].bar(indices[7,:], importances_means[7,:][indices[7,:]], color = \"r\", align=\"center\")\n",
        "axes[2, 2].bar(indices[8,:], importances_means[8,:][indices[8,:]], color = \"r\", align=\"center\")\n",
        "axes[3, 0].bar(indices[9,:], importances_means[9,:][indices[9,:]], color = \"r\", align=\"center\")\n",
        "axes[3, 1].bar(indices[10,:], importances_means[10,:][indices[10,:]], color = \"r\", align=\"center\")"
      ],
      "execution_count": 28,
      "outputs": [
        {
          "output_type": "execute_result",
          "data": {
            "text/plain": [
              "<Container object of 9 artists>"
            ]
          },
          "metadata": {
            "tags": []
          },
          "execution_count": 28
        },
        {
          "output_type": "display_data",
          "data": {
            "image/png": "[encoded data removed]",
            "text/plain": [
              "<matplotlib.figure.Figure at 0x7efc1138e2e8>"
            ]
          },
          "metadata": {
            "tags": []
          }
        }
      ]
    },
    {
      "metadata": {
        "id": "M0X8QpnETdtB",
        "colab_type": "code",
        "colab": {}
      },
      "cell_type": "code",
      "source": [
        "# Random Forest Training scores\n",
        "RF_CV_scores"
      ],
      "execution_count": 0,
      "outputs": []
    },
    {
      "metadata": {
        "id": "vVMVSFzrTdtF",
        "colab_type": "code",
        "colab": {}
      },
      "cell_type": "code",
      "source": [
        "# Random Forest Test scores\n",
        "RF_scores"
      ],
      "execution_count": 0,
      "outputs": []
    },
    {
      "metadata": {
        "id": "DYkIE0DITdtN",
        "colab_type": "text"
      },
      "cell_type": "markdown",
      "source": [
        "# Logistic Regression"
      ]
    },
    {
      "metadata": {
        "id": "wsMAHlDbTdtn",
        "colab_type": "text"
      },
      "cell_type": "markdown",
      "source": [
        "### Using standard scalar for features"
      ]
    },
    {
      "metadata": {
        "id": "nC9CjSw0Tdt0",
        "colab_type": "code",
        "colab": {}
      },
      "cell_type": "code",
      "source": [
        "def scaler(X):\n",
        "    scaler = preprocessing.StandardScaler()\n",
        "    scaler.fit(X)\n",
        "    X_scaled = scaler.transform(X)\n",
        "    return X_scaled"
      ],
      "execution_count": 0,
      "outputs": []
    },
    {
      "metadata": {
        "id": "-OuDdrHBTdt_",
        "colab_type": "code",
        "colab": {}
      },
      "cell_type": "code",
      "source": [
        "LR_clf = [None] * 11\n",
        "LR_scores = []\n",
        "LR_CV_scores = []\n",
        "\n",
        "# Initialize Coefficients Matrices:\n",
        "Repub_No_Bachelors = np.zeros((11,100))\n",
        "Repub_Bachelors = np.zeros((11,100))\n",
        "# Q2: How do you feel about the job Donald Trump is doing as president?\n",
        "Democrat_Q2_Disapprove_Strongly = np.zeros((11,100)) \n",
        "Democrat_Q2_Approve_Strongly = np.zeros((11,100))\n",
        "\n",
        "# Split data into train and test set for each sample size and train models.\n",
        "for i in range(11):\n",
        "    for j in range(100):\n",
        "        LR_clf[i] = LogisticRegression(random_state=0, solver='lbfgs', multi_class='multinomial')\n",
        "        LR_clf[i].fit(scaler(X_ohe_train[i]), y_le_train[i])\n",
        "        Repub_No_Bachelors[i,j] = LR_clf[i].coef_[2,1]\n",
        "        Repub_Bachelors[i,j] = LR_clf[i].coef_[2,0]\n",
        "        Democrat_Q2_Disapprove_Strongly[i,j] = LR_clf[i].coef_[0,22]\n",
        "        Democrat_Q2_Approve_Strongly[i,j] = LR_clf[i].coef_[0,20]\n",
        "        #LR_scores.append(LR_clf[i].score(scaler(X_ohe_test[i]), y_le_test[i]))\n",
        "        #LR_CV_scores.append(np.mean(cross_val_score(LR_clf[i], scaler(X_ohe_train[i]), y_le_train[i], cv =10)))"
      ],
      "execution_count": 0,
      "outputs": []
    },
    {
      "metadata": {
        "id": "OiAwCLQVTduE",
        "colab_type": "code",
        "colab": {}
      },
      "cell_type": "code",
      "source": [
        "#LR_CV_scores # L2 logistic regression Training Score"
      ],
      "execution_count": 0,
      "outputs": []
    },
    {
      "metadata": {
        "id": "2JyeYbCSTduJ",
        "colab_type": "code",
        "colab": {}
      },
      "cell_type": "code",
      "source": [
        "#LR_scores # L2 logistic regression Test Score"
      ],
      "execution_count": 0,
      "outputs": []
    },
    {
      "metadata": {
        "scrolled": true,
        "id": "Wx6067C2TduO",
        "colab_type": "code",
        "colab": {
          "base_uri": "https://localhost:8080/",
          "height": 393
        },
        "outputId": "d9b16692-4aad-4136-c0eb-ca7131009510"
      },
      "cell_type": "code",
      "source": [
        "plt.plot(sample_size, np.mean(Repub_No_Bachelors[0:10], axis=1), 'go-', color=\"r\", alpha = 0.5)\n",
        "plt.hlines(y = np.mean(Repub_No_Bachelors[10]), xmin = 0, xmax = 1100,color='r', linestyle='-')\n",
        "plt.xlabel('Sample Size')\n",
        "plt.ylabel('Coefficient of Republican : education_No Bachelors')\n",
        "plt.title(\"Logistic Regression with L2 Penalty\")\n",
        "#matplotlib.axes.Axes.fill_between(sample_size, np.mean(Repub_No_Bachelors[0:10], axis = 1)+2*np.std(Repub_No_Bachelors[0:10], axis = 1),np.mean(Repub_No_Bachelors[0:10], axis = 1)-2*np.std(Repub_No_Bachelors[0:10], axis = 1),where=None, interpolate=False, step=None, data=None)"
      ],
      "execution_count": 58,
      "outputs": [
        {
          "output_type": "execute_result",
          "data": {
            "text/plain": [
              "Text(0.5,1,'Logistic Regression with L2 Penalty')"
            ]
          },
          "metadata": {
            "tags": []
          },
          "execution_count": 58
        },
        {
          "output_type": "display_data",
          "data": {
            "image/png": "[encoded data removed]",
            "text/plain": [
              "<matplotlib.figure.Figure at 0x7efc0e41d780>"
            ]
          },
          "metadata": {
            "tags": []
          }
        }
      ]
    },
    {
      "metadata": {
        "id": "JeipDQAWTduU",
        "colab_type": "code",
        "colab": {
          "base_uri": "https://localhost:8080/",
          "height": 393
        },
        "outputId": "2061f8c3-5cb4-4dcf-9ff8-a69c24c99d36"
      },
      "cell_type": "code",
      "source": [
        "plt.plot(sample_size, np.mean(Repub_Bachelors[0:10], axis = 1), 'go-', color=\"b\", alpha = 0.5)\n",
        "plt.hlines(y = np.mean(Repub_Bachelors[10]), xmin = 0, xmax = 1100,color='b', linestyle='-')\n",
        "plt.xlabel('Sample Size')\n",
        "plt.ylabel('Coefficient of Republican : education_Bachelors')\n",
        "plt.title(\"Logistic Regression with L2 Penalty\")\n",
        "plt.fill_between(sample_size, \n",
        "                 np.mean(Repub_No_Bachelors[0:10], axis = 1)+2*np.std(Repub_No_Bachelors[0:10], axis = 1),\n",
        "                 np.mean(Repub_No_Bachelors[0:10],axis = 1)-2*np.std(Repub_No_Bachelors[0:10],axis = 1), \n",
        "                 facecolor = 'b', alpha = 0.1)"
      ],
      "execution_count": 59,
      "outputs": [
        {
          "output_type": "execute_result",
          "data": {
            "text/plain": [
              "<matplotlib.collections.PolyCollection at 0x7efc0e128550>"
            ]
          },
          "metadata": {
            "tags": []
          },
          "execution_count": 59
        },
        {
          "output_type": "display_data",
          "data": {
            "image/png": "[encoded data removed]",
            "text/plain": [
              "<matplotlib.figure.Figure at 0x7efc0e1f3eb8>"
            ]
          },
          "metadata": {
            "tags": []
          }
        }
      ]
    },
    {
      "metadata": {
        "id": "kr-V3uhMTdua",
        "colab_type": "code",
        "colab": {
          "base_uri": "https://localhost:8080/",
          "height": 393
        },
        "outputId": "862a6c24-71e9-4a52-9e15-370c73b425b1"
      },
      "cell_type": "code",
      "source": [
        "plt.plot(sample_size, np.mean(Democrat_Q2_Disapprove_Strongly[0:10], axis = 1), 'go-', color=\"k\", alpha = 0.5)\n",
        "plt.hlines(y = np.mean(Democrat_Q2_Disapprove_Strongly[10]), xmin = 0, xmax = 1100,color='k', linestyle='-')\n",
        "plt.xlabel('Sample Size')\n",
        "plt.ylabel('Coefficient of Democrat_Q2_Disapprove_Strongly')\n",
        "plt.title(\"Logistic Regression with L2 Penalty\")\n",
        "plt.fill_between(sample_size, \n",
        "                 np.mean(Democrat_Q2_Disapprove_Strongly[0:10], axis = 1)+2*np.std(Democrat_Q2_Disapprove_Strongly[0:10], axis = 1),\n",
        "                 np.mean(Democrat_Q2_Disapprove_Strongly[0:10],axis = 1)-2*np.std(Democrat_Q2_Disapprove_Strongly[0:10],axis = 1), \n",
        "                 facecolor = 'b', alpha = 0.1)"
      ],
      "execution_count": 60,
      "outputs": [
        {
          "output_type": "execute_result",
          "data": {
            "text/plain": [
              "<matplotlib.collections.PolyCollection at 0x7efc0e102e48>"
            ]
          },
          "metadata": {
            "tags": []
          },
          "execution_count": 60
        },
        {
          "output_type": "display_data",
          "data": {
            "image/png": "[encoded data removed]",
            "text/plain": [
              "<matplotlib.figure.Figure at 0x7efc0e3d0898>"
            ]
          },
          "metadata": {
            "tags": []
          }
        }
      ]
    },
    {
      "metadata": {
        "id": "Iz-Dc25pTduh",
        "colab_type": "code",
        "colab": {
          "base_uri": "https://localhost:8080/",
          "height": 393
        },
        "outputId": "fcd6c4d5-d661-4218-a837-1a331f1f1122"
      },
      "cell_type": "code",
      "source": [
        "plt.plot(sample_size, np.mean(Democrat_Q2_Approve_Strongly[0:10], axis = 1), 'go-', color=\"g\", alpha = 0.5)\n",
        "plt.hlines(y = np.mean(Democrat_Q2_Approve_Strongly[10]), xmin = 0, xmax = 1100, color='g', linestyle='-')\n",
        "plt.xlabel('Sample Size')\n",
        "plt.ylabel('Coefficient of Democrat_Q2_Disapprove_Strongly')\n",
        "plt.title(\"Logistic Regression with L2 Penalty\")\n",
        "plt.fill_between(sample_size, \n",
        "                 np.mean(Democrat_Q2_Approve_Strongly[0:10], axis = 1)+2*np.std(Democrat_Q2_Approve_Strongly[0:10], axis = 1),\n",
        "                 np.mean(Democrat_Q2_Approve_Strongly[0:10],axis = 1)-2*np.std(Democrat_Q2_Approve_Strongly[0:10],axis = 1), \n",
        "                 facecolor = 'b', alpha = 0.1)"
      ],
      "execution_count": 61,
      "outputs": [
        {
          "output_type": "execute_result",
          "data": {
            "text/plain": [
              "<matplotlib.collections.PolyCollection at 0x7efc0e066d68>"
            ]
          },
          "metadata": {
            "tags": []
          },
          "execution_count": 61
        },
        {
          "output_type": "display_data",
          "data": {
            "image/png": "[encoded data removed]",
            "text/plain": [
              "<matplotlib.figure.Figure at 0x7efc0e0e85f8>"
            ]
          },
          "metadata": {
            "tags": []
          }
        }
      ]
    },
    {
      "metadata": {
        "id": "PwHh5AAMTduo",
        "colab_type": "text"
      },
      "cell_type": "markdown",
      "source": [
        "#### Use L1 penalty for Logistic Regression"
      ]
    },
    {
      "metadata": {
        "id": "HNI0z02pTdut",
        "colab_type": "code",
        "colab": {}
      },
      "cell_type": "code",
      "source": [
        "LR1_clf = [None] * 11\n",
        "LR1_scores = []\n",
        "LR1_CV_scores = []\n",
        "\n",
        "# Initialize Coefficients Matrices:\n",
        "Repub_No_Bachelors_LR1 = np.zeros((11,100))\n",
        "Repub_Bachelors_LR1 = np.zeros((11,100))\n",
        "# Q2: How do you feel about the job Donald Trump is doing as president?\n",
        "Democrat_Q2_Disapprove_Strongly_LR1 = np.zeros((11,100)) \n",
        "Democrat_Q2_Approve_Strongly_LR1 = np.zeros((11,100))\n",
        "\n",
        "# Split data into train and test set for each sample size and train models.\n",
        "for i in range(11):\n",
        "    for j in range(100):\n",
        "        LR1_clf[i] = LogisticRegression(penalty = 'l1', random_state=0, solver = 'saga',multi_class='multinomial')\n",
        "        LR1_clf[i].fit(scaler(X_ohe_train[i]), y_le_train[i])\n",
        "        Repub_No_Bachelors_LR1[i,j] = LR_clf[i].coef_[2,1]\n",
        "        Repub_Bachelors_LR1[i,j] = LR_clf[i].coef_[2,0]\n",
        "        Democrat_Q2_Disapprove_Strongly_LR1[i,j] = LR1_clf[i].coef_[0,22]\n",
        "        Democrat_Q2_Approve_Strongly_LR1[i,j] = LR1_clf[i].coef_[0,20]\n",
        "        #LR1_scores.append(LR1_clf[i].score(scaler(X_ohe_test[i]), y_le_test[i]))\n",
        "        #LR1_CV_scores.append(np.mean(cross_val_score(LR1_clf[i], scaler(X_ohe_train[i]), y_le_train[i], cv =10)))    "
      ],
      "execution_count": 0,
      "outputs": []
    },
    {
      "metadata": {
        "id": "0Ay7czZSTduy",
        "colab_type": "code",
        "colab": {}
      },
      "cell_type": "code",
      "source": [
        "# Logistic Regression with L2 penalty Training score\n",
        "#LR1_CV_scores "
      ],
      "execution_count": 0,
      "outputs": []
    },
    {
      "metadata": {
        "id": "JW4QYDvATdu1",
        "colab_type": "code",
        "colab": {}
      },
      "cell_type": "code",
      "source": [
        "# Logistic Regression with L1 penalty Test score\n",
        "#LR1_scores "
      ],
      "execution_count": 0,
      "outputs": []
    },
    {
      "metadata": {
        "id": "L2mQho_JTdu5",
        "colab_type": "code",
        "colab": {}
      },
      "cell_type": "code",
      "source": [
        "plt.plot(sample_size, np.mean(Repub_No_Bachelors_LR1[0:10], axis=1), 'go-', color=\"r\", alpha = 0.5)\n",
        "plt.hlines(y = np.mean(Repub_No_Bachelors_LR1[10]), xmin = 0, xmax = 1100,color='r', linestyle='-')\n",
        "plt.xlabel('Sample Size')\n",
        "plt.ylabel('Coefficient of Republican : education_No Bachelors')\n",
        "plt.title(\"Logistic Regression with L1 Penalty\")\n",
        "plt.fill_between(sample_size, np.mean(Repub_No_Bachelors_LR1[0:10], axis=1)+2*np.std(Repub_No_Bachelors_LR1[0:10], axis=1),\n",
        "                 np.mean(Repub_No_Bachelors_LR1[0:10],axis=1)-2*np.std(Repub_No_Bachelors_LR1[0:10], axis=1), facecolor='b', alpha = 0.1)"
      ],
      "execution_count": 0,
      "outputs": []
    },
    {
      "metadata": {
        "id": "5CkNTOr3TdvG",
        "colab_type": "code",
        "colab": {}
      },
      "cell_type": "code",
      "source": [
        "np.mean(Repub_No_Bachelors_LR1[10])"
      ],
      "execution_count": 0,
      "outputs": []
    },
    {
      "metadata": {
        "id": "D0-91IVLTdvK",
        "colab_type": "code",
        "colab": {}
      },
      "cell_type": "code",
      "source": [
        "plt.plot(sample_size, np.mean(Repub_Bachelors_LR1[0:10], axis=1), 'go-', color=\"b\", alpha = 0.5)\n",
        "plt.hlines(y = np.mean(Repub_Bachelors_LR1[10]), xmin = 0, xmax = 1100,color='b', linestyle='-')\n",
        "plt.xlabel('Sample Size')\n",
        "plt.ylabel('Coefficient of Republican : education_Bachelors')\n",
        "plt.title(\"Logistic Regression with L1 Penalty\")\n",
        "#plt.fill_between(sample_size[i], np.mean(Repub_No_Bachelors[i,:])+2*np.std(Repub_No_Bachelors[i,:]),np.mean(Repub_No_Bachelors[i,:])-2*np.std(Repub_No_Bachelors[i,:]), facecolor = 'b', alpha = 0.1)"
      ],
      "execution_count": 0,
      "outputs": []
    },
    {
      "metadata": {
        "id": "fzwsaVEhTdvQ",
        "colab_type": "code",
        "colab": {}
      },
      "cell_type": "code",
      "source": [
        "plt.plot(sample_size, np.mean(Democrat_Q2_Disapprove_Strongly_LR1[0:10], axis=1), 'go-', color=\"k\", alpha = 0.5)\n",
        "plt.hlines(y = np.mean(Democrat_Q2_Disapprove_Strongly_LR1[10]), xmin = 0, xmax = 1100,color='k', linestyle='-')\n",
        "plt.xlabel('Sample Size')\n",
        "plt.ylabel('Coefficient of Democrat : Q2_Disapprove_Strongly')\n",
        "plt.title(\"Logistic Regression with L1 Penalty\")\n",
        "#plt.fill_between(sample_size[i], np.mean(Repub_No_Bachelors[i,:])+2*np.std(Repub_No_Bachelors[i,:]),np.mean(Repub_No_Bachelors[i,:])-2*np.std(Repub_No_Bachelors[i,:]), facecolor = 'b', alpha = 0.1)"
      ],
      "execution_count": 0,
      "outputs": []
    },
    {
      "metadata": {
        "id": "GzvgOS5dTdvZ",
        "colab_type": "code",
        "colab": {}
      },
      "cell_type": "code",
      "source": [
        "plt.plot(sample_size, np.mean(Democrat_Q2_Approve_Strongly_LR1[0:10], axis=1), 'go-', color=\"g\", alpha = 0.5)\n",
        "plt.hlines(y = np.mean(Democrat_Q2_Approve_Strongly_LR1[10]), xmin = 0, xmax = 1100,color='g', linestyle='-')\n",
        "plt.xlabel('Sample Size')\n",
        "plt.ylabel('Coefficient of Democrat : Q2_Approve_Strongly')\n",
        "plt.title(\"Logistic Regression with L1 Penalty\")\n",
        "#plt.fill_between(sample_size[i], np.mean(Repub_No_Bachelors[i,:])+2*np.std(Repub_No_Bachelors[i,:]),np.mean(Repub_No_Bachelors[i,:])-2*np.std(Repub_No_Bachelors[i,:]), facecolor = 'b', alpha = 0.1)"
      ],
      "execution_count": 0,
      "outputs": []
    },
    {
      "metadata": {
        "id": "lnuDIh6UTdvd",
        "colab_type": "text"
      },
      "cell_type": "markdown",
      "source": [
        "### SGDClassifier"
      ]
    },
    {
      "metadata": {
        "id": "6yJNcHi9Tdvk",
        "colab_type": "code",
        "colab": {}
      },
      "cell_type": "code",
      "source": [
        "SGD_clf = [None] * 11\n",
        "SGD_scores = []\n",
        "SGD_CV_scores = []\n",
        "\n",
        "# Initialize Coefficients Matrices:\n",
        "Repub_No_Bachelors_SGD = np.zeros((11,100))\n",
        "Repub_Bachelors_SGD = np.zeros((11,100))\n",
        "# Q2: How do you feel about the job Donald Trump is doing as president?\n",
        "Democrat_Q2_Disapprove_Strongly_SGD = np.zeros((11,100)) \n",
        "Democrat_Q2_Approve_Strongly_SGD = np.zeros((11,100))\n",
        "\n",
        "# Split data into train and test set for each sample size and train models.\n",
        "for i in range(11):\n",
        "    for j in range(100):\n",
        "        SGD_clf[i] = SGDClassifier(max_iter=1000, tol=1e-3)\n",
        "        SGD_clf[i].fit(scaler(X_ohe_train[i]), y_le_train[i])\n",
        "        Repub_No_Bachelors_SGD[i,j] = SGD_clf[i].coef_[2,1]\n",
        "        Repub_Bachelors_SGD[i,j] = SGD_clf[i].coef_[2,0]\n",
        "        Democrat_Q2_Disapprove_Strongly_SGD[i,j] = SGD_clf[i].coef_[0,22]\n",
        "        Democrat_Q2_Approve_Strongly_SGD[i,j] = SGD_clf[i].coef_[0,20]\n",
        "        #SGD_scores.append(SGD_clf[i].score(scaler(X_ohe_test[i]), y_le_test[i]))\n",
        "        #SGD_CV_scores.append(np.mean(cross_val_score(LR1_clf[i], scaler(X_ohe_train[i]), y_le_train[i], cv =10)))    "
      ],
      "execution_count": 0,
      "outputs": []
    },
    {
      "metadata": {
        "id": "MaGgg7xeTdvn",
        "colab_type": "code",
        "colab": {}
      },
      "cell_type": "code",
      "source": [
        "# SGD Classifier Training Score\n",
        "#SGD_CV_scores"
      ],
      "execution_count": 0,
      "outputs": []
    },
    {
      "metadata": {
        "id": "JDFVQCYNTdvs",
        "colab_type": "code",
        "colab": {}
      },
      "cell_type": "code",
      "source": [
        "# SGD Classifier Test Score\n",
        "#SGD_scores"
      ],
      "execution_count": 0,
      "outputs": []
    },
    {
      "metadata": {
        "id": "ulpso5_mTdvu",
        "colab_type": "code",
        "colab": {}
      },
      "cell_type": "code",
      "source": [
        "plt.plot(sample_size, np.mean(Repub_No_Bachelors_SGD[0:10], axis=1), 'go-', color=\"r\", alpha = 0.5)\n",
        "plt.hlines(y = np.mean(Repub_No_Bachelors_SGD[10]), xmin = 0, xmax = 1100,color='r', linestyle='-')\n",
        "plt.xlabel('Sample Size')\n",
        "plt.ylabel('Coefficient of Republican : education_No Bachelors')\n",
        "plt.title(\"SGD Classifier\")\n",
        "#plt.fill_between(sample_size[i], np.mean(Repub_No_Bachelors[i,:])+2*np.std(Repub_No_Bachelors[i,:]),np.mean(Repub_No_Bachelors[i,:])-2*np.std(Repub_No_Bachelors[i,:]), facecolor = 'b', alpha = 0.1)"
      ],
      "execution_count": 0,
      "outputs": []
    },
    {
      "metadata": {
        "id": "je0DgojFTdv6",
        "colab_type": "code",
        "colab": {}
      },
      "cell_type": "code",
      "source": [
        "plt.plot(sample_size, np.mean(Repub_Bachelors_SGD[0:10], axis=1), 'go-', color=\"b\", alpha = 0.5)\n",
        "plt.hlines(y = np.mean(Repub_Bachelors_SGD[10]), xmin = 0, xmax = 1100,color='b', linestyle='-')\n",
        "#plt.plot(y = np.mean(Repub_Bachelors_SGD[11])    \n",
        "plt.xlabel('Sample Size')\n",
        "plt.ylabel('Coefficient of Republican : education_Bachelors')\n",
        "plt.title(\"SGD Classifier\")\n",
        "#plt.fill_between(sample_size[i], np.mean(Repub_No_Bachelors[i,:])+2*np.std(Repub_No_Bachelors[i,:]),np.mean(Repub_No_Bachelors[i,:])-2*np.std(Repub_No_Bachelors[i,:]), facecolor = 'b', alpha = 0.1)"
      ],
      "execution_count": 0,
      "outputs": []
    },
    {
      "metadata": {
        "id": "KzDJL2LGTdv_",
        "colab_type": "code",
        "colab": {}
      },
      "cell_type": "code",
      "source": [
        "plt.plot(sample_size, np.mean(Democrat_Q2_Disapprove_Strongly_SGD[0:10], axis=1), 'go-', color=\"k\", alpha = 0.5)\n",
        "plt.hlines(y = np.mean(Democrat_Q2_Disapprove_Strongly_SGD[10]), xmin = 0, xmax = 1100,color='k', linestyle='-')\n",
        "plt.xlabel('Sample Size')\n",
        "plt.ylabel('Coefficient of Democrat : Q2_Disapprove_Strongly')\n",
        "plt.title(\"SGD Classifier\")\n",
        "\n",
        "#plt.fill_between(sample_size[i], np.mean(Repub_No_Bachelors[i,:])+2*np.std(Repub_No_Bachelors[i,:]),np.mean(Repub_No_Bachelors[i,:])-2*np.std(Repub_No_Bachelors[i,:]), facecolor = 'b', alpha = 0.1)"
      ],
      "execution_count": 0,
      "outputs": []
    },
    {
      "metadata": {
        "id": "dOBAgAx8TdwK",
        "colab_type": "code",
        "colab": {}
      },
      "cell_type": "code",
      "source": [
        "plt.plot(sample_size, np.mean(Democrat_Q2_Approve_Strongly_SGD[0:10], axis=1), 'go-', color=\"g\",alpha = 0.5)\n",
        "plt.hlines(y = np.mean(Democrat_Q2_Approve_Strongly_SGD[10]), xmin = 0, xmax = 1100,color='g', linestyle='-')\n",
        "plt.xlabel('Sample Size')\n",
        "plt.ylabel('Coefficient of Democrat : Q2_Approve_Strongly')\n",
        "plt.title(\"SGD Classifier\")\n",
        "#plt.fill_between(sample_size[i], np.mean(Repub_No_Bachelors[i,:])+2*np.std(Repub_No_Bachelors[i,:]),np.mean(Repub_No_Bachelors[i,:])-2*np.std(Repub_No_Bachelors[i,:]), facecolor = 'b', alpha = 0.1)"
      ],
      "execution_count": 0,
      "outputs": []
    }
  ]
}